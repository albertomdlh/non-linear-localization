{
 "cells": [
  {
   "cell_type": "code",
   "execution_count": 1,
   "metadata": {},
   "outputs": [],
   "source": [
    "import math\n",
    "import numpy as np\n",
    "import scipy as sp\n",
    "from scipy.linalg import eig\n",
    "from numpy import sin, cos, abs, exp, sqrt, arccos, pi, conj, argmin, real, imag\n",
    "\n",
    "%matplotlib inline\n",
    "import matplotlib.pyplot as plt\n",
    "%config InlineBackend.figure_format =\"retina\"\n",
    "import matplotlib as mpl\n",
    "plt.rc('text', usetex=True)\n",
    "plt.rc('font', family='serif')\n",
    "import time"
   ]
  },
  {
   "cell_type": "code",
   "execution_count": 2,
   "metadata": {},
   "outputs": [
    {
     "name": "stdout",
     "output_type": "stream",
     "text": [
      "len(k) = 501\n"
     ]
    }
   ],
   "source": [
    "gamma = 5e-2 # Loss rate\n",
    "J = 1.0 # Tunneling\n",
    "N = 500 # Number of cavities\n",
    "\n",
    "U = 0.5 # Kerr non-linearity\n",
    "Delta_list = np.linspace(0.01, 2.0, 50) # Detuning\n",
    "F_list = np.sqrt(Delta_list*J**2/U) # Pump\n",
    "\n",
    "# Momenta\n",
    "k = np.arange(-pi, (pi+2*pi/N), 2*pi/N)\n",
    "n = np.linspace(0, N-1, N)\n",
    "\n",
    "kn = np.einsum('k,n->kn', k, n)\n",
    "E_kn = np.exp(-1.0j*kn)"
   ]
  },
  {
   "cell_type": "code",
   "execution_count": 3,
   "metadata": {},
   "outputs": [],
   "source": [
    "N_t = 1e4 # 1e4 # Number of time steps\n",
    "t_f = 1e3 # Final time\n",
    "t = np.linspace(0, t_f, int(N_t))\n",
    "Delta_t = t[1] - t[0]"
   ]
  },
  {
   "cell_type": "code",
   "execution_count": 4,
   "metadata": {},
   "outputs": [],
   "source": [
    "def f_RK4(Delta, U, a_k, F_k):\n",
    "\n",
    "    y = -1.0j * (\n",
    "        -(Delta + 2*J*cos(k))*a_k + U/N*abs(a_k)**2*a_k - 1.0j*gamma*a_k + F_k\n",
    "    )\n",
    "    \n",
    "    return y\n",
    "\n",
    "def BogoEig(Delta, U, a_k):\n",
    "    '''\n",
    "    Diagonalizes Bogoliubov matrix and returns eigenvalues.\n",
    "    '''\n",
    "    \n",
    "    A = np.zeros((2*len(k), 2*len(k)), dtype=np.complex128)\n",
    "    for i in range(len(k)):\n",
    "        A[2*i, 2*i] = -(Delta + 2*J*cos(k[i])) + 2*U/N*abs(a_k[i])**2 - 1.0j*gamma\n",
    "        A[2*i, 2*i +1] = U/N*a_k[i]**2\n",
    "        A[2*i+1, 2*i] = -U/N*conj(a_k[i])**2\n",
    "        A[2*i+1, 2*i+1] = (Delta + 2*J*cos(k[i])) - 2*U/N*abs(a_k[i])**2 - 1.0j*gamma\n",
    "\n",
    "    w, V = eig(A)\n",
    "    \n",
    "    return w"
   ]
  },
  {
   "cell_type": "code",
   "execution_count": 5,
   "metadata": {},
   "outputs": [],
   "source": [
    "a_k_conv = []\n",
    "a_n_conv = []\n",
    "w_list = []\n",
    "\n",
    "count = 0\n",
    "\n",
    "# Cavity fields\n",
    "a_k = np.zeros((int(N_t), len(k)), dtype=np.complex128)\n",
    "\n",
    "# RK parameters\n",
    "k1 = np.zeros(int(len(k)), dtype=np.complex128)\n",
    "k2 = np.zeros(int(len(k)), dtype=np.complex128)\n",
    "k3 = np.zeros(int(len(k)), dtype=np.complex128)\n",
    "k4 = np.zeros(int(len(k)), dtype=np.complex128)\n",
    "\n",
    "for F, Delta in zip(F_list, Delta_list):\n",
    "\n",
    "    F_n = np.zeros(N, dtype=np.complex128)\n",
    "    F_n[int(N/2-1)] = F\n",
    "    F_n[int(N/2+1)] = F\n",
    "\n",
    "    kn = np.einsum('k,n->kn', k, n)\n",
    "    E_kn = np.exp(-1.0j*kn)\n",
    "    F_k = np.einsum('kn,n->k', E_kn, F_n) / sqrt(N)\n",
    "\n",
    "    for i_t in range(len(t)-1):\n",
    "\n",
    "        k1 = f_RK4(Delta, U, a_k[i_t, :], F_k)\n",
    "        k2 = f_RK4(Delta, U, a_k[i_t, :] + k1*Delta_t/2, F_k)\n",
    "        k3 = f_RK4(Delta, U, a_k[i_t, :] + k2*Delta_t/2, F_k)\n",
    "        k4 = f_RK4(Delta, U, a_k[i_t, :] + k3*Delta_t, F_k)\n",
    "\n",
    "        a_k[i_t+1, :] = a_k[i_t, :] + (k1 + 2*k2 + 2*k3 + k4)*Delta_t/6\n",
    "    \n",
    "    a_k_conv.append(a_k[-1, :])\n",
    "    a_k[0, :] = a_k[-1, :]\n",
    "\n",
    "    nk = np.einsum('n,k->nk', n, k)\n",
    "    E_nk = np.exp(1.0j*nk)\n",
    "    a_n = np.einsum('nk,k->n', E_nk, a_k[-1, :]) / sqrt(N)\n",
    "    a_n_conv.append(a_n)\n",
    "\n",
    "    w_list.append(BogoEig(Delta, U, a_k[-1, :]))\n",
    "\n",
    "    count += 1\n",
    "\n",
    "a_k_conv = np.array(a_k_conv)\n",
    "a_n_conv = np.array(a_n_conv)\n",
    "w_list = np.array(w_list)"
   ]
  },
  {
   "cell_type": "code",
   "execution_count": 7,
   "metadata": {},
   "outputs": [
    {
     "data": {
      "text/plain": [
       "(-0.2, 0.1)"
      ]
     },
     "execution_count": 7,
     "metadata": {},
     "output_type": "execute_result"
    },
    {
     "data": {
      "image/png": "[encoded data removed]",
      "text/plain": [
       "<Figure size 360x288 with 1 Axes>"
      ]
     },
     "metadata": {
      "image/png": {
       "height": 276,
       "width": 356
      },
      "needs_background": "light"
     },
     "output_type": "display_data"
    }
   ],
   "source": [
    "plt.rcParams[\"figure.figsize\"] = [5, 4]\n",
    "fig, ax = plt.subplots(1, 1)\n",
    "ax.grid()\n",
    "\n",
    "index = 25\n",
    "\n",
    "w_array = np.array(w_list)\n",
    "for i in range(len(k)):\n",
    "    ax.scatter(Delta_list, np.imag(w_array[:, i]))\n",
    "\n",
    "ax.plot([min(Delta_list), max(Delta_list)], [-gamma, -gamma], '--k')\n",
    "ax.set_xlabel(r'$\\Delta/J$',fontsize=15)\n",
    "ax.set_ylabel(r'$Im\\{w\\}/J$',fontsize=15)\n",
    "ax.tick_params(axis='both', labelsize=15)\n",
    "\n",
    "#ax.set_xlim(0, 1)\n",
    "ax.set_ylim(-4*gamma, 2*gamma)\n",
    "\n",
    "#plt.savefig(\"cosine_reciprocal_self_kerr.pdf\", bbox_inches='tight', dpi=600)"
   ]
  },
  {
   "cell_type": "code",
   "execution_count": null,
   "metadata": {},
   "outputs": [],
   "source": []
  }
 ],
 "metadata": {
  "kernelspec": {
   "display_name": "Python 3",
   "language": "python",
   "name": "python3"
  },
  "language_info": {
   "codemirror_mode": {
    "name": "ipython",
    "version": 3
   },
   "file_extension": ".py",
   "mimetype": "text/x-python",
   "name": "python",
   "nbconvert_exporter": "python",
   "pygments_lexer": "ipython3",
   "version": "3.10.11"
  },
  "orig_nbformat": 4,
  "vscode": {
   "interpreter": {
    "hash": "618bbadb9914128447fd922d1e72f950848015c2c5a2940f9918db08be8e0dec"
   }
  }
 },
 "nbformat": 4,
 "nbformat_minor": 2
}
