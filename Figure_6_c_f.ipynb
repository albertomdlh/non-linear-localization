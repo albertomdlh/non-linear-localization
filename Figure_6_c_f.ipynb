{
 "cells": [
  {
   "cell_type": "code",
   "execution_count": 1,
   "metadata": {},
   "outputs": [],
   "source": [
    "import math\n",
    "import numpy as np\n",
    "import scipy as sp\n",
    "from scipy.linalg import eigh, eig\n",
    "from numpy import sin, cos, abs, exp, sqrt, arccos, pi\n",
    "from scipy.sparse import csc_matrix\n",
    "\n",
    "%matplotlib inline\n",
    "import matplotlib.pyplot as plt\n",
    "%config InlineBackend.figure_format =\"retina\"\n",
    "import matplotlib as mpl\n",
    "plt.rc('text', usetex=True)\n",
    "plt.rc('font', family='serif')"
   ]
  },
  {
   "cell_type": "code",
   "execution_count": 2,
   "metadata": {},
   "outputs": [],
   "source": [
    "U = 0.0 # Kerr non-linearity\n",
    "gamma = 5e-2 # Loss rate\n",
    "J = 1.0 # Tunneling\n",
    "Nx = 100 # Number of cavities in the vertical direction\n",
    "Ny = 100 # Number of cavities in the horizontal direction\n",
    "N = Nx*Ny # Total number of lattice sites\n",
    "F_i = 1.0 # Pump\n",
    "\n",
    "# Momenta\n",
    "kx_list = np.arange(-pi, pi + 2*pi/Nx, 2*pi/Nx)\n",
    "ky_list = np.arange(-pi, pi + 2*pi/Ny, 2*pi/Ny)\n",
    "\n",
    "# Detuning\n",
    "Delta_list_ldos = np.linspace(-4, 4, 25)\n",
    "\n",
    "# Distance\n",
    "d = 1"
   ]
  },
  {
   "cell_type": "code",
   "execution_count": 3,
   "metadata": {},
   "outputs": [],
   "source": [
    "Delta_list = np.linspace(-4, 4, 25)\n",
    "\n",
    "N = 50 # Number of cavities in the vertical direction\n",
    "M = 50 # Number of cavities in the horizontal direction\n",
    "\n",
    "T = np.zeros((N, M, N, M), dtype=np.float64)\n",
    "\n",
    "for j in range(N):\n",
    "    for k in range(M-1):\n",
    "\n",
    "        T[j, k+1, j, k] = J\n",
    "        T[j, k, j, k+1] = J\n",
    "\n",
    "for j in range(N-1):\n",
    "    for k in range(M):\n",
    "\n",
    "        T[j+1, k, j, k] = J\n",
    "        T[j, k, j+1, k] = J\n",
    "\n",
    "def f_RK4(Delta, U, gamma, F, a):\n",
    "\n",
    "    y = -1.0j * (\n",
    "        -Delta*a + U*abs(a)**2*a + np.einsum('nmjk,jk->nm', T, a) - 1.0j*gamma*a + F\n",
    "    )\n",
    "    \n",
    "    return y\n",
    "\n",
    "N_t = 1e3 # Number of time steps\n",
    "t_f = 1e2 # Final time\n",
    "t = np.linspace(0, t_f, int(N_t))\n",
    "Delta_t = t[1] - t[0]"
   ]
  },
  {
   "cell_type": "code",
   "execution_count": 11,
   "metadata": {},
   "outputs": [
    {
     "name": "stdout",
     "output_type": "stream",
     "text": [
      "1 / 25\n"
     ]
    },
    {
     "ename": "KeyboardInterrupt",
     "evalue": "",
     "output_type": "error",
     "traceback": [
      "\u001b[1;31m---------------------------------------------------------------------------\u001b[0m",
      "\u001b[1;31mKeyboardInterrupt\u001b[0m                         Traceback (most recent call last)",
      "Input \u001b[1;32mIn [11]\u001b[0m, in \u001b[0;36m<cell line: 7>\u001b[1;34m()\u001b[0m\n\u001b[0;32m     67\u001b[0m \u001b[38;5;28mprint\u001b[39m(\u001b[38;5;124m'\u001b[39m\u001b[38;5;132;01m{:}\u001b[39;00m\u001b[38;5;124m / \u001b[39m\u001b[38;5;132;01m{:}\u001b[39;00m\u001b[38;5;124m'\u001b[39m\u001b[38;5;241m.\u001b[39mformat(count\u001b[38;5;241m+\u001b[39m\u001b[38;5;241m1\u001b[39m, \u001b[38;5;28mlen\u001b[39m(Delta_list)))\n\u001b[0;32m     69\u001b[0m \u001b[38;5;28;01mfor\u001b[39;00m i_t \u001b[38;5;129;01min\u001b[39;00m \u001b[38;5;28mrange\u001b[39m(\u001b[38;5;28mlen\u001b[39m(t)\u001b[38;5;241m-\u001b[39m\u001b[38;5;241m1\u001b[39m):\n\u001b[1;32m---> 71\u001b[0m     k1 \u001b[38;5;241m=\u001b[39m \u001b[43mf_RK4\u001b[49m\u001b[43m(\u001b[49m\u001b[43mDelta\u001b[49m\u001b[43m,\u001b[49m\u001b[43m \u001b[49m\u001b[43mU\u001b[49m\u001b[43m,\u001b[49m\u001b[43m \u001b[49m\u001b[43mgamma\u001b[49m\u001b[43m,\u001b[49m\u001b[43m \u001b[49m\u001b[43mF\u001b[49m\u001b[43m,\u001b[49m\u001b[43m \u001b[49m\u001b[43ma\u001b[49m\u001b[43m[\u001b[49m\u001b[43m:\u001b[49m\u001b[43m,\u001b[49m\u001b[43m \u001b[49m\u001b[43m:\u001b[49m\u001b[43m,\u001b[49m\u001b[43m \u001b[49m\u001b[43mi_t\u001b[49m\u001b[43m]\u001b[49m\u001b[43m)\u001b[49m\n\u001b[0;32m     72\u001b[0m     k2 \u001b[38;5;241m=\u001b[39m f_RK4(Delta, U, gamma, F, a[:, :, i_t] \u001b[38;5;241m+\u001b[39m k1\u001b[38;5;241m*\u001b[39mDelta_t\u001b[38;5;241m/\u001b[39m\u001b[38;5;241m2\u001b[39m)\n\u001b[0;32m     73\u001b[0m     k3 \u001b[38;5;241m=\u001b[39m f_RK4(Delta, U, gamma, F, a[:, :, i_t] \u001b[38;5;241m+\u001b[39m k2\u001b[38;5;241m*\u001b[39mDelta_t\u001b[38;5;241m/\u001b[39m\u001b[38;5;241m2\u001b[39m)\n",
      "Input \u001b[1;32mIn [10]\u001b[0m, in \u001b[0;36mf_RK4\u001b[1;34m(Delta, U, gamma, F, a)\u001b[0m\n\u001b[0;32m     20\u001b[0m \u001b[38;5;28;01mdef\u001b[39;00m \u001b[38;5;21mf_RK4\u001b[39m(Delta, U, gamma, F, a):\n\u001b[0;32m     22\u001b[0m     y \u001b[38;5;241m=\u001b[39m \u001b[38;5;241m-\u001b[39m\u001b[38;5;241m1.0\u001b[39mj \u001b[38;5;241m*\u001b[39m (\n\u001b[1;32m---> 23\u001b[0m         \u001b[38;5;241m-\u001b[39mDelta\u001b[38;5;241m*\u001b[39ma \u001b[38;5;241m+\u001b[39m U\u001b[38;5;241m*\u001b[39m\u001b[38;5;28mabs\u001b[39m(a)\u001b[38;5;241m*\u001b[39m\u001b[38;5;241m*\u001b[39m\u001b[38;5;241m2\u001b[39m\u001b[38;5;241m*\u001b[39ma \u001b[38;5;241m+\u001b[39m \u001b[43mnp\u001b[49m\u001b[38;5;241;43m.\u001b[39;49m\u001b[43meinsum\u001b[49m\u001b[43m(\u001b[49m\u001b[38;5;124;43m'\u001b[39;49m\u001b[38;5;124;43mnmjk,jk->nm\u001b[39;49m\u001b[38;5;124;43m'\u001b[39;49m\u001b[43m,\u001b[49m\u001b[43m \u001b[49m\u001b[43mT\u001b[49m\u001b[43m,\u001b[49m\u001b[43m \u001b[49m\u001b[43ma\u001b[49m\u001b[43m)\u001b[49m \u001b[38;5;241m-\u001b[39m \u001b[38;5;241m1.0\u001b[39mj\u001b[38;5;241m*\u001b[39mgamma\u001b[38;5;241m*\u001b[39ma \u001b[38;5;241m+\u001b[39m F\n\u001b[0;32m     24\u001b[0m     )\n\u001b[0;32m     26\u001b[0m     \u001b[38;5;28;01mreturn\u001b[39;00m y\n",
      "File \u001b[1;32m<__array_function__ internals>:180\u001b[0m, in \u001b[0;36meinsum\u001b[1;34m(*args, **kwargs)\u001b[0m\n",
      "File \u001b[1;32m~\\AppData\\Local\\Packages\\PythonSoftwareFoundation.Python.3.10_qbz5n2kfra8p0\\LocalCache\\local-packages\\Python310\\site-packages\\numpy\\core\\einsumfunc.py:1359\u001b[0m, in \u001b[0;36meinsum\u001b[1;34m(out, optimize, *operands, **kwargs)\u001b[0m\n\u001b[0;32m   1357\u001b[0m     \u001b[38;5;28;01mif\u001b[39;00m specified_out:\n\u001b[0;32m   1358\u001b[0m         kwargs[\u001b[38;5;124m'\u001b[39m\u001b[38;5;124mout\u001b[39m\u001b[38;5;124m'\u001b[39m] \u001b[38;5;241m=\u001b[39m out\n\u001b[1;32m-> 1359\u001b[0m     \u001b[38;5;28;01mreturn\u001b[39;00m c_einsum(\u001b[38;5;241m*\u001b[39moperands, \u001b[38;5;241m*\u001b[39m\u001b[38;5;241m*\u001b[39mkwargs)\n\u001b[0;32m   1361\u001b[0m \u001b[38;5;66;03m# Check the kwargs to avoid a more cryptic error later, without having to\u001b[39;00m\n\u001b[0;32m   1362\u001b[0m \u001b[38;5;66;03m# repeat default values here\u001b[39;00m\n\u001b[0;32m   1363\u001b[0m valid_einsum_kwargs \u001b[38;5;241m=\u001b[39m [\u001b[38;5;124m'\u001b[39m\u001b[38;5;124mdtype\u001b[39m\u001b[38;5;124m'\u001b[39m, \u001b[38;5;124m'\u001b[39m\u001b[38;5;124morder\u001b[39m\u001b[38;5;124m'\u001b[39m, \u001b[38;5;124m'\u001b[39m\u001b[38;5;124mcasting\u001b[39m\u001b[38;5;124m'\u001b[39m]\n",
      "\u001b[1;31mKeyboardInterrupt\u001b[0m: "
     ]
    }
   ],
   "source": [
    "localization_list = ['no', 'yes'] # 'yes' # 'no'\n",
    "\n",
    "ldos_matrix = []\n",
    "I_matrix = []\n",
    "lambda_list = []\n",
    "\n",
    "for localization in localization_list:\n",
    "\n",
    "    if localization=='no':\n",
    "        F = np.zeros((N, M), dtype=np.complex128)\n",
    "        F[int(N/2), int(M/2)] = 1.0 # Central pump\n",
    "    elif localization=='yes':\n",
    "        F = np.zeros((N, M), dtype=np.complex128)\n",
    "        F[int(N/2), int(M/2-1)] = F_i\n",
    "        F[int(N/2-1), int(M/2)] = F_i\n",
    "        F[int(N/2), int(M/2+1)] = F_i\n",
    "        F[int(N/2+1), int(M/2)] = F_i\n",
    "\n",
    "    I_list = []\n",
    "\n",
    "    # Cavity fields\n",
    "    a = np.zeros((N, M, int(N_t)), dtype=np.complex128)\n",
    "\n",
    "    count = 0\n",
    "\n",
    "    for Delta in Delta_list:\n",
    "\n",
    "        print('{:} / {:}'.format(count+1, len(Delta_list)))\n",
    "\n",
    "        for i_t in range(len(t)-1):\n",
    "\n",
    "            k1 = f_RK4(Delta, U, gamma, F, a[:, :, i_t])\n",
    "            k2 = f_RK4(Delta, U, gamma, F, a[:, :, i_t] + k1*Delta_t/2)\n",
    "            k3 = f_RK4(Delta, U, gamma, F, a[:, :, i_t] + k2*Delta_t/2)\n",
    "            k4 = f_RK4(Delta, U, gamma, F, a[:, :, i_t] + k3*Delta_t)\n",
    "\n",
    "            a[:, :, i_t+1] = a[:, :, i_t] + (k1 + 2*k2 + 2*k3 + k4)*Delta_t/6\n",
    "\n",
    "        I_list.append( np.sum(np.abs(a[:, :, -1])**2) )\n",
    "        \n",
    "        count += 1\n",
    "\n",
    "    I_matrix.append(I_list)"
   ]
  },
  {
   "cell_type": "code",
   "execution_count": 8,
   "metadata": {},
   "outputs": [
    {
     "data": {
      "image/png": "[encoded data removed]",
      "text/plain": [
       "<Figure size 288x360 with 2 Axes>"
      ]
     },
     "metadata": {
      "image/png": {
       "height": 334,
       "width": 290
      },
      "needs_background": "light"
     },
     "output_type": "display_data"
    }
   ],
   "source": [
    "plt.rcParams[\"figure.figsize\"] = [4, 5]\n",
    "fig, ax = plt.subplots(2, 1)\n",
    "fs = 20\n",
    "\n",
    "i_loc = 1\n",
    "localization = 'yes'\n",
    "\n",
    "ax[i_loc-1].scatter(Delta_list, np.array(I_matrix[i_loc])*J**2/F_i**2, color='blue', label=r'$\\frac{I_{\\rm T}J^2}{|F|^2}$')\n",
    "#ax[i_loc-1].plot(Delta_list_ldos, ldos_matrix[i_loc]*max(np.array(I_matrix[i_loc])*J**2/F_i**2)/max(ldos_matrix[i_loc]), '--k', label=r'$\\alpha\\Gamma_{\\rm e}$')\n",
    "\n",
    "#ax[i_loc-1].set_xlabel(r'$\\Delta/J$', fontsize=fs)\n",
    "ax[i_loc-1].tick_params(axis='both', labelsize=fs)\n",
    "#ax[i_loc-1].set_ylabel(r'$I_{\\rm T}$', fontsize=fs)\n",
    "#ax[i_loc-1].set_title('Square lattice', fontsize=fs)\n",
    "ax[i_loc-1].set_xticks(np.arange(-4, 5, 2))\n",
    "#ax[i_loc-1].set_xticklabels([])\n",
    "ax[i_loc-1].grid()\n",
    "\n",
    "ax[0].set_ylim(-3, 70)\n",
    "ax[0].set_yticks([0, 30, 60])\n",
    "\n",
    "ax[0].set_ylabel(r'$I_{\\rm T}J^2/|F|^2$', fontsize=fs)\n",
    "\n",
    "ax[1].grid()\n",
    "ax[1].scatter(Delta_list, lambda_list, color='blue')\n",
    "ax[1].set_xlabel(r'$\\Delta/J$', fontsize=fs)\n",
    "ax[1].set_xticks(np.arange(-4, 5, 2))\n",
    "ax[1].tick_params(axis='both', labelsize=fs)\n",
    "ax[1].set_yticks(np.arange(0, 1.5, 0.5))\n",
    "ax[1].set_ylabel(r'$\\lambda$', fontsize=fs)"
   ]
  },
  {
   "cell_type": "code",
   "execution_count": null,
   "metadata": {},
   "outputs": [],
   "source": []
  }
 ],
 "metadata": {
  "kernelspec": {
   "display_name": "Python 3",
   "language": "python",
   "name": "python3"
  },
  "language_info": {
   "codemirror_mode": {
    "name": "ipython",
    "version": 3
   },
   "file_extension": ".py",
   "mimetype": "text/x-python",
   "name": "python",
   "nbconvert_exporter": "python",
   "pygments_lexer": "ipython3",
   "version": "3.10.11"
  },
  "orig_nbformat": 4,
  "vscode": {
   "interpreter": {
    "hash": "618bbadb9914128447fd922d1e72f950848015c2c5a2940f9918db08be8e0dec"
   }
  }
 },
 "nbformat": 4,
 "nbformat_minor": 2
}
